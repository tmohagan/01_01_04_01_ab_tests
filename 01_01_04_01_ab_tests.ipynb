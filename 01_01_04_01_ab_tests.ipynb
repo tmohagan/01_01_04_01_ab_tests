{
 "cells": [
  {
   "cell_type": "markdown",
   "metadata": {},
   "source": [
    "Does a new supplement help people sleep better?"
   ]
  },
  {
   "cell_type": "markdown",
   "metadata": {},
   "source": [
    "We need to know if the new supplement helps people sleep better than people who do not take the supplement.  Therefore, we to perform test both with and without the supplement.\n",
    "\n",
    "We need two samples of people.  They need to be of similar age, sex, health.  \n",
    "\n",
    "We hypothosis that those who take the supplement will sleep better than those who do not.\n",
    "\n",
    "We can monitor brain patterns in subjects to determine how long they spend in deep sleep or how often they are waking up in the middle of the night.  We can expect if the supplement works, those who take it will claim to feel well rested.\n",
    "\n",
    "We need to monitor the subjects activities and diets.  Perhaps the supplement is only benefifical to users who undergo excess physical activity or in combination with certian foods.\n"
   ]
  },
  {
   "cell_type": "markdown",
   "metadata": {},
   "source": [
    "Will new uniforms help a gym's business?"
   ]
  },
  {
   "cell_type": "markdown",
   "metadata": {},
   "source": [
    "We need to look at a gyms business both with and without the uniforms.  \n",
    "\n",
    "Idealy, we have multiple gyms in the same region.  If we have a large city, there might be two gyms in the same city.  We can showcase the new uniforms at one, and not the other.  Otherewise, we might have to use the uniforms in one part of the country and not the other.  If the gym has only one location, we might have to wear the new uniforms one part of the year, and compare buisness to a comparaable time without the uniforms.\n",
    "\n",
    "We expect to see an increase of business durning the time of the new uniforms.\n",
    "\n",
    "If our hypothesis is accurate, we should see an increase of income and membership after the new uniforms are put into use.\n",
    "\n",
    "If we are using samples gyms from different parts of the country, we need to make sure the change is bussiness is not a regional thing.  Gyms in areas with better weather might get more business simple becaus more people are willing to get out.  Same thing if we test the results in one store at different times of year.  Uniforms in the summer time might result in better samples only because the weather is better."
   ]
  },
  {
   "cell_type": "markdown",
   "metadata": {},
   "source": [
    "Will a new homepage improve my online exotic pet rental business?"
   ]
  },
  {
   "cell_type": "markdown",
   "metadata": {},
   "source": [
    "We need business statistics for the old homepage and also for the new homepage.\n",
    "\n",
    "There might be a way to randomy send some users to the old homepage and some users to the new homepage.  Otherwise, we will have to compare the statistics with the new page to old statistics from the old page.\n",
    "\n",
    "We expect the new homepage will result in an increase of exotic pet rentals.\n",
    "\n",
    "After the test we should be able to see if the number of exotic pet rentals has actually increased or not.\n",
    "\n",
    "If we can send some users to the old page and some users to the new page, we should compare as many details about the users to determin if each group of users is comparable.  Random redirects could send mostly women to one version and mostly men to another version by complete coinsodence.  We want to make sure the division was truly.\n",
    "\n",
    "If we have to compare data from the new homepage with old data from the old homepage, we need to look for other influences.  Did we promote the new design and the increased business is just a result of advertisting?  Was the new homepage and a new server that happened to crash and decreased sales?  "
   ]
  },
  {
   "cell_type": "markdown",
   "metadata": {},
   "source": [
    "If I put 'please read' in the email subject will more people read my emails?"
   ]
  },
  {
   "cell_type": "markdown",
   "metadata": {},
   "source": [
    "We need to send lots of emails, some with 'please read' in the subject and some with a different subject line.  I would think we want to test 'please read' against any other subject line.  Meaning, half of the emails would have the subject 'please read' and the other have of the emails would have a mixture of subject lines. Afterall, we want to test if 'please read' is better than the average subject line, not if it is better than a particular subject line. \n",
    "\n",
    "We need two large groups of email addresses to test this theory.  In particular, it would be important to make sure each groups shares a similar median age.  \n",
    "\n",
    "My personal hypothesis is that adding 'please read' to the subject line will have no influence on the number of emails read.  No one sends an email they don't want people to read.  I don't think it will change many peoples mind.  I'm persoanlly less inclined to read an email like that because it tells me the sender knows it's something I otherwise probably won't care about.\n",
    "\n",
    "Sometimes we are able to get data telling us if an email has been read.  If we can do that, then we can easily measure how many emails were or were not opened, but not necessiraily know if they have been read.\n",
    "\n",
    "The other option is to request the receiver replies to the email.  If they reply, then we know they read the email.  However, if they do not reply, that does not necessarily mean the email was not read.\n",
    "\n",
    "There are lots of factors that could infliuence the results.  Age group, social status, employment, etc, all are different groups of people that will probably react differently to emails.  We would need to have a very large and balanced group of people to successfully test this theory.  \n",
    "\n",
    "Furthermore, different email providers use different spam detectors.  Some of these emails might go into spam and never be seen by users who otherwise might have read them.  There are also large numbers of abandoned email addresses.  It's difficult to know if an email has actually ever been visibile to anyone.  "
   ]
  }
 ],
 "metadata": {
  "kernelspec": {
   "display_name": "Python 3",
   "language": "python",
   "name": "python3"
  },
  "language_info": {
   "codemirror_mode": {
    "name": "ipython",
    "version": 3
   },
   "file_extension": ".py",
   "mimetype": "text/x-python",
   "name": "python",
   "nbconvert_exporter": "python",
   "pygments_lexer": "ipython3",
   "version": "3.6.5"
  }
 },
 "nbformat": 4,
 "nbformat_minor": 2
}
